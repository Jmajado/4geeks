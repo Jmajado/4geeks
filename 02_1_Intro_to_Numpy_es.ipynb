{
  "cells": [
    {
      "cell_type": "markdown",
      "id": "bdfbcacc",
      "metadata": {
        "id": "bdfbcacc"
      },
      "source": [
        "![Logo de NumPy](https://github.com/4GeeksAcademy/machine-learning-prework/blob/main/02-numpy/assets/numpy_logo.png?raw=true)\n",
        "\n",
        "## Introducción a NumPy\n",
        "\n",
        "`NumPy` es un juego de palabras que significa **Python numérico** (*Numerical Python*). Es una librería de código abierto que se utiliza para llevar a cabo tareas matemáticas con altísima eficiencia. Además, introduce estructuras de datos como los arrays multidimensionales, que se pueden operar entre ellos a alto nivel, sin meterse mucho en el detalle.\n",
        "\n",
        "En concreto, las claves de esta librería son:\n",
        "\n",
        "- **Array multidimensionales**: Esta librería proporciona un objeto llamado `ndarray`, que permite almacenar y manipular grandes conjuntos de datos de forma eficiente. Los arrays pueden tener cualquier número de dimensiones.\n",
        "- **Operaciones Vectorizadas**: NumPy permite realizar operaciones matemáticas en arrays completos sin la necesidad de bucles explícitos en el código, lo que lo hace muy rápido y eficiente.\n",
        "- **Funciones matemáticas**: NumPy proporciona una amplia gama de funciones matemáticas para trabajar con arrays, incluyendo funciones trigonométricas, estadísticas, álgebra lineal, entre otras.\n",
        "- **Eficiencia**: Es mucho más rápido que la misma funcionalidad implementada directamente sobre Python nativo. Además, es muy flexible en términos de acceso y manipulación de elementos individuales o subconjuntos de arrays.\n",
        "\n",
        "NumPy es una biblioteca fundamental para el Machine Learning y la ciencia de los datos en Python. Proporciona una amplia gama de herramientas y funciones para trabajar eficientemente con datos numéricos en forma de arrays y matrices."
      ]
    },
    {
      "cell_type": "markdown",
      "id": "dc410026",
      "metadata": {
        "id": "dc410026"
      },
      "source": [
        "### Arrays\n",
        "\n",
        "Un **array** de NumPy es una estructura de datos que permite almacenar una colección de elementos, generalmente números, en una o más dimensiones.\n",
        "\n",
        "#### Array unidimensional\n",
        "\n",
        "Un array unidimensional (1D) de NumPy es una estructura de datos que contiene una secuencia de elementos en una única dimensión. Es similar a una lista en Python, pero con las ventajas de rendimiento y funcionalidad que ofrece NumPy.\n",
        "\n",
        "![Array de una dimensión](https://github.com/4GeeksAcademy/machine-learning-prework/blob/main/02-numpy/assets/1D.png?raw=true \"1D\")\n",
        "\n",
        "Un array 1D puede ser creado usando la función `array` de la librería con una lista de elementos como argumento. Por ejemplo:"
      ]
    },
    {
      "cell_type": "code",
      "execution_count": null,
      "id": "d8a0686b",
      "metadata": {
        "id": "d8a0686b",
        "outputId": "7839a728-03dd-4a4c-9e70-70312396190d"
      },
      "outputs": [
        {
          "data": {
            "text/plain": [
              "array([1, 2, 3, 4, 5])"
            ]
          },
          "execution_count": 1,
          "metadata": {},
          "output_type": "execute_result"
        }
      ],
      "source": [
        "import numpy as np\n",
        "\n",
        "array = np.array([1, 2, 3, 4, 5])\n",
        "array"
      ]
    },
    {
      "cell_type": "markdown",
      "id": "e090f7a0",
      "metadata": {
        "id": "e090f7a0"
      },
      "source": [
        "Esto creará un array 1D con los elementos 1, 2, 3, 4 y 5. Los elementos del array deben ser del mismo tipo de datos. Si los elementos son de diferentes tipos, NumPy intentará convertirlos al mismo tipo si es posible.\n",
        "\n",
        "En un array 1D, podemos acceder a los elementos usando **índices** (*indexes*), modificarlos y realizar operaciones matemáticas en el array completo de forma eficiente. A continuación se muestran algunas operaciones que se pueden realizar utilizando el array anterior:"
      ]
    },
    {
      "cell_type": "code",
      "execution_count": null,
      "id": "a56cb1b0",
      "metadata": {
        "id": "a56cb1b0",
        "outputId": "ae1db162-2d16-4815-b1ad-9452c4aab610"
      },
      "outputs": [
        {
          "name": "stdout",
          "output_type": "stream",
          "text": [
            "3\n",
            "[1 7 3 4 5]\n",
            "[11 17 13 14 15]\n",
            "70\n"
          ]
        }
      ],
      "source": [
        "# Acceder al tercer elemento\n",
        "print(array[2])\n",
        "\n",
        "# Cambiar el valor del segundo elemento\n",
        "array[1] = 7\n",
        "print(array)\n",
        "\n",
        "# Sumar 10 a todos los elementos\n",
        "array += 10\n",
        "print(array)\n",
        "\n",
        "# Calcular la suma de los elementos\n",
        "sum_all = np.sum(array)\n",
        "print(sum_all)"
      ]
    },
    {
      "cell_type": "markdown",
      "id": "322771b1",
      "metadata": {
        "id": "322771b1"
      },
      "source": [
        "#### Array N-dimensional\n",
        "\n",
        "Un array multidimensional o n-dimensional en NumPy es una estructura de datos que organiza elementos en múltiples dimensiones (ejes). Estos arrays permiten representar estructuras de datos más complejas, como matrices (array 2D, 2 ejes), tensores (array 3D, 3 ejes) y estructuras de mayor dimensión.\n",
        "\n",
        "![Arrays de diferentes dimensiones](https://github.com/4GeeksAcademy/machine-learning-prework/blob/main/02-numpy/assets/3D.png?raw=true \"3D\")\n",
        "\n",
        "Un array N-dimensional puede ser creado también usando la función `array` de la librería. Por ejemplo, si queremos crear un array 2D:"
      ]
    },
    {
      "cell_type": "code",
      "execution_count": null,
      "id": "2033ba3c",
      "metadata": {
        "id": "2033ba3c",
        "outputId": "ad749aa4-f4a6-4456-8860-948e7bf104ff"
      },
      "outputs": [
        {
          "data": {
            "text/plain": [
              "array([[1, 2, 3],\n",
              "       [4, 5, 6],\n",
              "       [7, 8, 9]])"
            ]
          },
          "execution_count": 3,
          "metadata": {},
          "output_type": "execute_result"
        }
      ],
      "source": [
        "array_2d = np.array([[1, 2, 3], [4, 5, 6], [7, 8, 9]])\n",
        "array_2d"
      ]
    },
    {
      "cell_type": "markdown",
      "id": "d3dac6c2",
      "metadata": {
        "id": "d3dac6c2"
      },
      "source": [
        "Si ahora quisiéramos crear un array 3D, tendríamos que pensar en él como una lista de matrices:"
      ]
    },
    {
      "cell_type": "code",
      "execution_count": null,
      "id": "bc914841",
      "metadata": {
        "id": "bc914841",
        "outputId": "ec6d9480-f16a-4946-eefd-9a8de4119088"
      },
      "outputs": [
        {
          "data": {
            "text/plain": [
              "array([[[1, 2],\n",
              "        [3, 4]],\n",
              "\n",
              "       [[5, 6],\n",
              "        [7, 8]]])"
            ]
          },
          "execution_count": 4,
          "metadata": {},
          "output_type": "execute_result"
        }
      ],
      "source": [
        "array_3d = np.array([[[1, 2], [3, 4]], [[5, 6], [7, 8]]])\n",
        "array_3d"
      ]
    },
    {
      "cell_type": "markdown",
      "id": "da7bcb64",
      "metadata": {
        "id": "da7bcb64"
      },
      "source": [
        "Al igual que sucedía con los arrays 1D, los elementos en un array multidimensional son accesibles mediante índices, se pueden realizar operaciones con ellos, etcétera.\n",
        "\n",
        "A medida que agregamos más dimensiones, el principio básico sigue siendo el mismo: cada dimensión adicional puede considerarse como un nivel adicional de anidamiento. Sin embargo, a nivel práctico, trabajar con arrays de más de 3 o 4 dimensiones puede volverse más complejo y menos intuitivo.\n",
        "\n",
        "Los arrays n-dimensionales en NumPy permiten una gran flexibilidad y potencia para representar y manipular datos en formas más complejas, especialmente útiles en campos como la ciencia de los datos, procesamiento de imágenes y aprendizaje profundo."
      ]
    },
    {
      "cell_type": "markdown",
      "id": "d699ac98",
      "metadata": {
        "id": "d699ac98"
      },
      "source": [
        "### Funciones\n",
        "\n",
        "NumPy proporciona una gran cantidad de funciones predefinidas y que se pueden aplicar directamente sobre las estructuras de datos vistas anteriormente o las propias de Python (listas, matrices, etcétera). Algunas de las más utilizadas en el análisis de datos son:"
      ]
    },
    {
      "cell_type": "code",
      "execution_count": null,
      "id": "e7680306",
      "metadata": {
        "id": "e7680306",
        "outputId": "17721cbd-a2d5-44fa-8ae2-83ddd8e67180"
      },
      "outputs": [
        {
          "name": "stdout",
          "output_type": "stream",
          "text": [
            "Suma: [ 6  7  8  9 10]\n",
            "Producto: [ 3  6  9 12 15]\n",
            "Logaritmo natural: [0.         0.69314718 1.09861229 1.38629436 1.60943791]\n",
            "Exponencial: [  2.71828183   7.3890561   20.08553692  54.59815003 148.4131591 ]\n",
            "Media: 3.0\n",
            "Mediana: 3.0\n",
            "Desviación estándar: 1.4142135623730951\n",
            "Varianza: 2.0\n",
            "Máximo valor: 5\n",
            "Índice del máximo valor: 4\n",
            "Mínimo valor: 1\n",
            "Índice del mínimo valor: 0\n",
            "Suma de todos los elementos: 15\n",
            "Redondeo: [1. 2. 4. 5.]\n",
            "Entero menor (floor): [1. 2. 3. 4.]\n",
            "Entero mayor (ceil): [2. 3. 4. 5.]\n"
          ]
        }
      ],
      "source": [
        "import numpy as np\n",
        "\n",
        "# Crear un array para el ejemplo\n",
        "arr = np.array([1, 2, 3, 4, 5])\n",
        "\n",
        "# Operaciones Aritméticas\n",
        "print(\"Suma:\", np.add(arr, 5))\n",
        "print(\"Producto:\", np.multiply(arr, 3))\n",
        "\n",
        "# Logarítmicas y Exponenciales\n",
        "print(\"Logaritmo natural:\", np.log(arr))\n",
        "print(\"Exponencial:\", np.exp(arr))\n",
        "\n",
        "# Funciones Estadísticas\n",
        "print(\"Media:\", np.mean(arr))\n",
        "print(\"Mediana:\", np.median(arr))\n",
        "print(\"Desviación estándar:\", np.std(arr))\n",
        "print(\"Varianza:\", np.var(arr))\n",
        "print(\"Máximo valor:\", np.max(arr))\n",
        "print(\"Índice del máximo valor:\", np.argmax(arr))\n",
        "print(\"Mínimo valor:\", np.min(arr))\n",
        "print(\"Índice del mínimo valor:\", np.argmin(arr))\n",
        "print(\"Suma de todos los elementos:\", np.sum(arr))\n",
        "\n",
        "# Funciones de Redondeo\n",
        "arr_decimal = np.array([1.23, 2.47, 3.56, 4.89])\n",
        "print(\"Redondeo:\", np.around(arr_decimal))\n",
        "print(\"Entero menor (floor):\", np.floor(arr_decimal))\n",
        "print(\"Entero mayor (ceil):\", np.ceil(arr_decimal))"
      ]
    },
    {
      "cell_type": "markdown",
      "id": "51b5cda3",
      "metadata": {
        "id": "51b5cda3"
      },
      "source": [
        "## Ejercicios: Haz clic en \"open in colab\" para realizarlos\n",
        "\n",
        "> Solución: https://github.com/4GeeksAcademy/machine-learning-prework/blob/main/02-numpy/02.1-Intro-to-Numpy_solutions.ipynb\n",
        "\n",
        "### Creación de arrays"
      ]
    },
    {
      "cell_type": "markdown",
      "id": "e3c20b3d",
      "metadata": {
        "id": "e3c20b3d"
      },
      "source": [
        "#### Ejercicio 01:  Crea un **vector nulo** (*null vector*) que tenga 10 elementos (★☆☆)\n",
        "\n",
        "Un vector nulo es un array de una dimensión compuesto por ceros (`0`).\n",
        "\n",
        "> NOTA: Revisa la función `np.zeros` (https://numpy.org/doc/stable/reference/generated/numpy.zeros.html)"
      ]
    },
    {
      "cell_type": "code",
      "execution_count": 5,
      "id": "8a758bcf",
      "metadata": {
        "colab": {
          "base_uri": "https://localhost:8080/"
        },
        "id": "8a758bcf",
        "outputId": "24566c65-f044-4050-9edf-1e09fc27244d"
      },
      "outputs": [
        {
          "output_type": "stream",
          "name": "stdout",
          "text": [
            "[0. 0. 0. 0. 0. 0. 0. 0. 0. 0.]\n"
          ]
        }
      ],
      "source": [
        "import numpy as np\n",
        "print(np.zeros(10))"
      ]
    },
    {
      "cell_type": "markdown",
      "id": "6cbe7954",
      "metadata": {
        "id": "6cbe7954"
      },
      "source": [
        "#### Ejercicio 02: Crea un vector de unos que tenga 10 elementos (★☆☆)\n",
        "\n",
        "> NOTA: Revisa la función `np.ones` (https://numpy.org/doc/stable/reference/generated/numpy.ones.html)"
      ]
    },
    {
      "cell_type": "code",
      "execution_count": 6,
      "id": "86477874",
      "metadata": {
        "colab": {
          "base_uri": "https://localhost:8080/"
        },
        "id": "86477874",
        "outputId": "95a10d40-bdef-4bbd-9686-9fdef983d2b4"
      },
      "outputs": [
        {
          "output_type": "stream",
          "name": "stdout",
          "text": [
            "[1. 1. 1. 1. 1. 1. 1. 1. 1. 1.]\n"
          ]
        }
      ],
      "source": [
        "print(np.ones(10))"
      ]
    },
    {
      "cell_type": "markdown",
      "id": "0a708990",
      "metadata": {
        "id": "0a708990"
      },
      "source": [
        "#### Ejercicio 03: Investiga la función `linspace` de NumPy y crea un array que contenga 10 elementos (★☆☆)\n",
        "\n",
        "> NOTA: Revisa la función `np.linspace` (https://numpy.org/doc/stable/reference/generated/numpy.linspace.html)"
      ]
    },
    {
      "cell_type": "code",
      "execution_count": 10,
      "id": "477e01f4",
      "metadata": {
        "colab": {
          "base_uri": "https://localhost:8080/"
        },
        "id": "477e01f4",
        "outputId": "d455fdc2-7ca5-4391-854d-be483c063fdd"
      },
      "outputs": [
        {
          "output_type": "execute_result",
          "data": {
            "text/plain": [
              "array([ 1.,  2.,  3.,  4.,  5.,  6.,  7.,  8.,  9., 10.])"
            ]
          },
          "metadata": {},
          "execution_count": 10
        }
      ],
      "source": [
        "np.linspace(1,10, 10)"
      ]
    },
    {
      "cell_type": "markdown",
      "id": "9794fe71",
      "metadata": {
        "id": "9794fe71"
      },
      "source": [
        "#### Ejercicio 04: Busca varias formas de generar un array con números aleatorios y crea un array 1D y dos arrays 2D (★★☆)\n",
        "\n",
        "> NOTA: Revisa las funciones `np.random.rand` (https://numpy.org/doc/stable/reference/random/generated/numpy.random.rand.html), `np.random.randint` (https://numpy.org/doc/stable/reference/random/generated/numpy.random.randint.html) y `np.random.randn` (https://numpy.org/doc/stable/reference/random/generated/numpy.random.randn.html)"
      ]
    },
    {
      "cell_type": "code",
      "source": [
        "arreglo_10 = np.random.rand(5)\n",
        "print(arreglo_10)"
      ],
      "metadata": {
        "colab": {
          "base_uri": "https://localhost:8080/"
        },
        "id": "5AcHRDsWSxGA",
        "outputId": "e6991943-363b-4fdc-ac36-e0da06b04504"
      },
      "id": "5AcHRDsWSxGA",
      "execution_count": 13,
      "outputs": [
        {
          "output_type": "stream",
          "name": "stdout",
          "text": [
            "[0.39043062 0.7345681  0.15785139 0.1677653  0.34806788]\n"
          ]
        }
      ]
    },
    {
      "cell_type": "code",
      "source": [
        "arreglo_2d = np.random.randn(5,3)\n",
        "arreglo_2d"
      ],
      "metadata": {
        "colab": {
          "base_uri": "https://localhost:8080/"
        },
        "id": "gZOX6kBPSxXt",
        "outputId": "4b07af07-06ad-4a0e-8169-d971e9a1cd85"
      },
      "id": "gZOX6kBPSxXt",
      "execution_count": 15,
      "outputs": [
        {
          "output_type": "execute_result",
          "data": {
            "text/plain": [
              "array([[ 0.38562425, -1.03276034, -1.16155312],\n",
              "       [ 1.56942572,  0.89736926, -0.47078883],\n",
              "       [-0.13314484,  0.55968306,  1.05995345],\n",
              "       [-0.02661556, -1.47412445,  1.16831161],\n",
              "       [ 0.78788127,  2.19320027, -1.30822653]])"
            ]
          },
          "metadata": {},
          "execution_count": 15
        }
      ]
    },
    {
      "cell_type": "code",
      "execution_count": 18,
      "id": "3d9a48a7",
      "metadata": {
        "colab": {
          "base_uri": "https://localhost:8080/"
        },
        "id": "3d9a48a7",
        "outputId": "e8bd8453-2236-4517-88bc-99c89592ec5b"
      },
      "outputs": [
        {
          "output_type": "execute_result",
          "data": {
            "text/plain": [
              "array([[12,  5,  1],\n",
              "       [ 4, 18, 14],\n",
              "       [16, 13, 15],\n",
              "       [12, 18, 12],\n",
              "       [ 4,  6, 18]])"
            ]
          },
          "metadata": {},
          "execution_count": 18
        }
      ],
      "source": [
        "array_2d_con_rango = np.random.randint(1,20, size = (5,3))\n",
        "array_2d_con_rango"
      ]
    },
    {
      "cell_type": "markdown",
      "id": "78a37e5c",
      "metadata": {
        "id": "78a37e5c"
      },
      "source": [
        "#### Ejercicio 05: Crea una matriz (array 2D) identidad de 5x5 (★☆☆)\n",
        "\n",
        "\n",
        "> NOTA: Revisa la función `np.eye`(https://numpy.org/devdocs/reference/generated/numpy.eye.html)"
      ]
    },
    {
      "cell_type": "code",
      "execution_count": 19,
      "id": "a6751106",
      "metadata": {
        "colab": {
          "base_uri": "https://localhost:8080/"
        },
        "id": "a6751106",
        "outputId": "03448247-e1dd-49ce-e9dd-e7d005570696"
      },
      "outputs": [
        {
          "output_type": "execute_result",
          "data": {
            "text/plain": [
              "array([[1., 0., 0., 0., 0.],\n",
              "       [0., 1., 0., 0., 0.],\n",
              "       [0., 0., 1., 0., 0.],\n",
              "       [0., 0., 0., 1., 0.],\n",
              "       [0., 0., 0., 0., 1.]])"
            ]
          },
          "metadata": {},
          "execution_count": 19
        }
      ],
      "source": [
        "np.eye(5,5)"
      ]
    },
    {
      "cell_type": "markdown",
      "id": "08bb63e6",
      "metadata": {
        "id": "08bb63e6"
      },
      "source": [
        "#### Ejercicio 06: Crea una matriz con números aleatorios de 3x2 y calcula el valor mínimo y máximo (★☆☆)\n",
        "\n",
        "> NOTA: Revisa la función `np.min` (https://numpy.org/devdocs/reference/generated/numpy.min.html) y `np.max` (https://numpy.org/devdocs/reference/generated/numpy.max.html)"
      ]
    },
    {
      "cell_type": "code",
      "execution_count": 22,
      "id": "3214cca1",
      "metadata": {
        "colab": {
          "base_uri": "https://localhost:8080/"
        },
        "id": "3214cca1",
        "outputId": "78e6b4e7-656c-4c42-8110-ba297afd0a14"
      },
      "outputs": [
        {
          "output_type": "stream",
          "name": "stdout",
          "text": [
            "[[37 35]\n",
            " [ 6 35]\n",
            " [ 2 72]]\n",
            "valor minimo 2\n",
            "valor max 72\n"
          ]
        }
      ],
      "source": [
        "matriz = np.random.randint(0,100, size = (3,2))\n",
        "print(matriz)\n",
        "min = np.min(matriz)\n",
        "max = np.max(matriz)\n",
        "print(\"valor minimo\", min)\n",
        "print(\"valor max\", max)"
      ]
    },
    {
      "cell_type": "markdown",
      "id": "57c6c275",
      "metadata": {
        "id": "57c6c275"
      },
      "source": [
        "#### Ejercicio 07: Crea un vector con números aleatorios de 30 elementos y calcula la media (★☆☆)\n",
        "\n",
        "> NOTA: Revisa la función `np.mean` (https://numpy.org/doc/stable/reference/generated/numpy.mean.html)"
      ]
    },
    {
      "cell_type": "code",
      "execution_count": 25,
      "id": "cc960ba5",
      "metadata": {
        "colab": {
          "base_uri": "https://localhost:8080/"
        },
        "id": "cc960ba5",
        "outputId": "99bc6de0-9bf7-47d3-eb0f-213f161ddea3"
      },
      "outputs": [
        {
          "output_type": "stream",
          "name": "stdout",
          "text": [
            "[57 32 86 58 81  5  7 34 72 72 51 53 35  2  7 61 49 90 34 41 25 92 38 46\n",
            " 48  4 89 54 68 38]\n",
            "media 47.63333333333333\n"
          ]
        }
      ],
      "source": [
        "vec = np.random.randint(0,100, size = 30)\n",
        "media = np.mean(vec)\n",
        "print(vec)\n",
        "print(\"media\", media)"
      ]
    },
    {
      "cell_type": "markdown",
      "id": "2c801667",
      "metadata": {
        "id": "2c801667"
      },
      "source": [
        "#### Ejercicio 08: Convierte la lista `[1, 2, 3]` y la tupla `(1, 2, 3)` en arrays (★☆☆)"
      ]
    },
    {
      "cell_type": "code",
      "execution_count": 27,
      "id": "3f36c71c",
      "metadata": {
        "colab": {
          "base_uri": "https://localhost:8080/"
        },
        "id": "3f36c71c",
        "outputId": "bf678b1b-5f44-4d0f-e78e-d874d9057bda"
      },
      "outputs": [
        {
          "output_type": "stream",
          "name": "stdout",
          "text": [
            "[1 2 3]\n",
            "[1 2 3]\n"
          ]
        }
      ],
      "source": [
        "lista = [1,2,3]\n",
        "tupla = (1,2,3)\n",
        "lista_array = np.array(lista)\n",
        "tupla_array = np.array(tupla)\n",
        "print(lista_array)\n",
        "print(tupla_array)"
      ]
    },
    {
      "cell_type": "markdown",
      "id": "962bb9fc",
      "metadata": {
        "id": "962bb9fc"
      },
      "source": [
        "### Operaciones entre arrays"
      ]
    },
    {
      "cell_type": "markdown",
      "id": "48d48f01",
      "metadata": {
        "id": "48d48f01"
      },
      "source": [
        "#### Ejercicio 09: Invierte el vector del ejercicio anterior (★☆☆)\n",
        "\n",
        "> NOTA: Revisa la función `np.flip` (https://numpy.org/doc/stable/reference/generated/numpy.flip.html)"
      ]
    },
    {
      "cell_type": "code",
      "execution_count": 30,
      "id": "d3e13052",
      "metadata": {
        "colab": {
          "base_uri": "https://localhost:8080/"
        },
        "id": "d3e13052",
        "outputId": "def9567a-e444-4d72-cd17-aecba9bef974"
      },
      "outputs": [
        {
          "output_type": "stream",
          "name": "stdout",
          "text": [
            "[3 2 1]\n"
          ]
        }
      ],
      "source": [
        "listainvertida = np.flip(lista)\n",
        "print(listainvertida)"
      ]
    },
    {
      "cell_type": "markdown",
      "id": "233addce",
      "metadata": {
        "id": "233addce"
      },
      "source": [
        "#### Ejercicio 10: Cambia el tamaño de un array aleatorio de dimensiones 5x12 en 12x5 (★☆☆)\n",
        "\n",
        "> NOTA: Revisa la función `np.reshape` (https://numpy.org/doc/stable/reference/generated/numpy.reshape.html)"
      ]
    },
    {
      "cell_type": "code",
      "execution_count": 38,
      "id": "bfaed09f",
      "metadata": {
        "colab": {
          "base_uri": "https://localhost:8080/"
        },
        "id": "bfaed09f",
        "outputId": "716a01a7-0518-4544-d367-327e99fcc84b"
      },
      "outputs": [
        {
          "output_type": "stream",
          "name": "stdout",
          "text": [
            "[[ 4 69 99 74 27 17 56 22  4 78 56 13]\n",
            " [70 54 48 66 32 55 91 52  6 98 67 61]\n",
            " [82 74 65 55 52 88 72 82 51 83 43 59]\n",
            " [86  8  9 91 68 54 79 21 94 20 22 39]\n",
            " [62 26 82 20 87 26 43 34  2 11 33 41]]\n",
            "\n",
            "\n",
            "[[ 4 69 99 74 27]\n",
            " [17 56 22  4 78]\n",
            " [56 13 70 54 48]\n",
            " [66 32 55 91 52]\n",
            " [ 6 98 67 61 82]\n",
            " [74 65 55 52 88]\n",
            " [72 82 51 83 43]\n",
            " [59 86  8  9 91]\n",
            " [68 54 79 21 94]\n",
            " [20 22 39 62 26]\n",
            " [82 20 87 26 43]\n",
            " [34  2 11 33 41]]\n"
          ]
        }
      ],
      "source": [
        "array = np.random.randint(1,100, size = (5,12))\n",
        "print(array)\n",
        "print(\"\\n\")\n",
        "arrayinvertido = array.reshape(12,5)\n",
        "print(arrayinvertido)"
      ]
    },
    {
      "cell_type": "markdown",
      "id": "645e5381",
      "metadata": {
        "id": "645e5381"
      },
      "source": [
        "#### Ejercicio 11: Convierte la lista `[1, 2, 0, 0, 4, 0]` en un array y obtén el índice de los elementos que no son cero (★★☆)\n",
        "\n",
        "> NOTA: Revisa la función `np.where` (https://numpy.org/devdocs/reference/generated/numpy.where.html)"
      ]
    },
    {
      "cell_type": "code",
      "execution_count": 41,
      "id": "b2652fee",
      "metadata": {
        "colab": {
          "base_uri": "https://localhost:8080/"
        },
        "id": "b2652fee",
        "outputId": "e08f3cc3-b651-41d4-8f3f-50cd24f40469"
      },
      "outputs": [
        {
          "output_type": "stream",
          "name": "stdout",
          "text": [
            "[1 2 0 0 4 0]\n",
            "(array([0, 1, 4]),)\n"
          ]
        }
      ],
      "source": [
        "lista = [1,2,0,0,4,0]\n",
        "lista_array = np.array(lista)\n",
        "print(lista_array)\n",
        "indice_sin_ceros = np.where(lista_array!=0)\n",
        "print(indice_sin_ceros)\n",
        "\n",
        "\n"
      ]
    },
    {
      "cell_type": "markdown",
      "id": "e7948dbb",
      "metadata": {
        "id": "e7948dbb"
      },
      "source": [
        "#### Ejercicio 12: Convierte la lista `[0, 5, -1, 3, 15]` en un array, multiplica sus valores por `-2` y obtén los elementos pares (★★☆)"
      ]
    },
    {
      "cell_type": "code",
      "execution_count": 49,
      "metadata": {
        "colab": {
          "base_uri": "https://localhost:8080/"
        },
        "id": "3Rj9mC-bQoot",
        "outputId": "eb3eb52c-0a0a-4830-866b-73b48cd44d77"
      },
      "outputs": [
        {
          "output_type": "stream",
          "name": "stdout",
          "text": [
            "[ 0  5 -1  3 15]\n",
            "[  0 -10   2  -6 -30]\n",
            "[  0 -10   2  -6 -30]\n"
          ]
        }
      ],
      "source": [
        "lista = [0,5,-1,3,15]\n",
        "lista_array = np.array(lista)\n",
        "print(lista_array)\n",
        "lista_array2 = lista_array*-2\n",
        "print(lista_array2)\n",
        "pares = lista_array2[np.where (lista_array2 % 2 == 0)]\n",
        "print(pares)"
      ],
      "id": "3Rj9mC-bQoot"
    },
    {
      "cell_type": "markdown",
      "id": "a90d6f3e",
      "metadata": {
        "id": "a90d6f3e"
      },
      "source": [
        "#### Ejercicio 13: Crea un vector aleatorio de 10 elementos y ordénalo de menor a mayor (★★☆)\n",
        "\n",
        "> NOTA: Revisa la función `np.sort` (https://numpy.org/doc/stable/reference/generated/numpy.sort.html)"
      ]
    },
    {
      "cell_type": "code",
      "execution_count": 55,
      "id": "bc373a83",
      "metadata": {
        "colab": {
          "base_uri": "https://localhost:8080/"
        },
        "id": "bc373a83",
        "outputId": "0fe298ae-3b29-446d-be7e-5b2caf2826a2"
      },
      "outputs": [
        {
          "output_type": "stream",
          "name": "stdout",
          "text": [
            "[4 9 9 3 7 8 4 1 9 5]\n",
            "[1 3 4 4 5 7 8 9 9 9]\n"
          ]
        }
      ],
      "source": [
        "vector = np.random.randint(1,10, size = 10)\n",
        "print(vector)\n",
        "vector = np.sort(vector)\n",
        "print(vector)\n",
        "\n"
      ]
    },
    {
      "cell_type": "markdown",
      "id": "5e9b6115",
      "metadata": {
        "id": "5e9b6115"
      },
      "source": [
        "#### Ejercicio 14: Genera dos vectores aleatorios de 8 elementos y aplica las operaciones de suma, resta y multiplicación entre ellos (★★☆)\n",
        "\n",
        "> NOTA: Revisa las funciones matemáticas: https://numpy.org/doc/stable/reference/routines.math.html"
      ]
    },
    {
      "cell_type": "code",
      "execution_count": 7,
      "id": "cc77e421",
      "metadata": {
        "colab": {
          "base_uri": "https://localhost:8080/"
        },
        "id": "cc77e421",
        "outputId": "635e8b50-9abd-417c-ac83-a1b47ead90ce"
      },
      "outputs": [
        {
          "output_type": "stream",
          "name": "stdout",
          "text": [
            "[4 5 5 4 3 1 5 3]\n",
            "[14 12 13 15  9 11 16 13]\n",
            "la suma de vectores es [18 17 18 19 12 12 21 16], la resta de vectores es [-10  -7  -8 -11  -6 -10 -11 -10], la multiplicacion de los vectores es [56 60 65 60 27 11 80 39]\n"
          ]
        }
      ],
      "source": [
        "import numpy as np\n",
        "vector1 = np.random.randint(1,8, size = 8)\n",
        "vector2 = np.random.randint(9,17, size = 8)\n",
        "print(vector1)\n",
        "print(vector2)\n",
        "vectorsum = np.add(vector1 , vector2)\n",
        "vectorrest = np.subtract(vector1 , vector2)\n",
        "vectormultiply = np.multiply(vector1 , vector2)\n",
        "print(f\"la suma de vectores es {vectorsum}, la resta de vectores es {vectorrest}, la multiplicacion de los vectores es {vectormultiply}\")\n"
      ]
    },
    {
      "cell_type": "markdown",
      "id": "c8e8daa0",
      "metadata": {
        "id": "c8e8daa0"
      },
      "source": [
        "#### Ejercicio 15: Convierte la lista `[1, 2, 3, 4, 5, 6, 7, 8, 9, 10, 11, 12]` en un array y transfórmalo en una matriz con filas de 3 columnas (★★★)"
      ]
    },
    {
      "cell_type": "code",
      "execution_count": 10,
      "metadata": {
        "colab": {
          "base_uri": "https://localhost:8080/"
        },
        "id": "dYHEi_bRQooy",
        "outputId": "ec4ad0f6-724d-4a5e-f980-8904d046593f"
      },
      "outputs": [
        {
          "output_type": "stream",
          "name": "stdout",
          "text": [
            "[1, 2, 3, 4, 5, 6, 7, 8, 9, 10, 11, 12]\n",
            "[[ 1  2  3]\n",
            " [ 4  5  6]\n",
            " [ 7  8  9]\n",
            " [10 11 12]]\n"
          ]
        }
      ],
      "source": [
        "lista =  [1, 2, 3, 4, 5, 6, 7, 8, 9, 10, 11, 12]\n",
        "lista_array = np.array(lista)\n",
        "print(lista)\n",
        "lista_array = lista_array.reshape(-1,3)\n",
        "print(lista_array)\n"
      ],
      "id": "dYHEi_bRQooy"
    }
  ],
  "metadata": {
    "kernelspec": {
      "display_name": "Python 3",
      "language": "python",
      "name": "python3"
    },
    "language_info": {
      "codemirror_mode": {
        "name": "ipython",
        "version": 3
      },
      "file_extension": ".py",
      "mimetype": "text/x-python",
      "name": "python",
      "nbconvert_exporter": "python",
      "pygments_lexer": "ipython3",
      "version": "3.11.4"
    },
    "colab": {
      "provenance": []
    }
  },
  "nbformat": 4,
  "nbformat_minor": 5
}